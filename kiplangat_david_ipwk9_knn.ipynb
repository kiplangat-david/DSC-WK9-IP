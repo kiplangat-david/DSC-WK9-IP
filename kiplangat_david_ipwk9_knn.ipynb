{
  "nbformat": 4,
  "nbformat_minor": 0,
  "metadata": {
    "colab": {
      "name": "kiplangat-david-ipwk9-knn",
      "provenance": [],
      "authorship_tag": "ABX9TyPPfQPwedPXCUleN23uPDtP",
      "include_colab_link": true
    },
    "kernelspec": {
      "name": "python3",
      "display_name": "Python 3"
    },
    "language_info": {
      "name": "python"
    }
  },
  "cells": [
    {
      "cell_type": "markdown",
      "metadata": {
        "id": "view-in-github",
        "colab_type": "text"
      },
      "source": [
        "<a href=\"https://colab.research.google.com/github/kiplangat-david/DSC-WK9-IP/blob/main/kiplangat_david_ipwk9_knn.ipynb\" target=\"_parent\"><img src=\"https://colab.research.google.com/assets/colab-badge.svg\" alt=\"Open In Colab\"/></a>"
      ]
    },
    {
      "cell_type": "markdown",
      "source": [
        "##**Analytic Question**\n",
        "\n",
        " Implement a K-nearest neighbor (kNN) classifier on Titanic Dataset to classify passenger survival\n",
        "\n",
        "\n"
      ],
      "metadata": {
        "id": "F54IYK6ws3qH"
      }
    },
    {
      "cell_type": "markdown",
      "source": [
        "##**Metrics For Success**\n",
        "\n",
        " This project will be successful if our model achieves an accuracy of 70-95% and with minimum number of false predictions as possible."
      ],
      "metadata": {
        "id": "SHoltY4wtwZ_"
      }
    },
    {
      "cell_type": "markdown",
      "source": [
        "##**Context**\n",
        "\n",
        "\n",
        "-The Titanic was a luxury British steamship that sank on April 15, 1912, en route to New York from Southampton, England, on its maiden voyage after striking an iceberge\n",
        "\n",
        "-The ship's passengers were divided into three separate classes determined by the price of their ticket:\n",
        "  - first class - which consisted of the wealthiest passengers; included prominent members of the upper class, businessmen, politicians, high-ranking military personnel, industrialists, bankers, entertainers, socialites, and professional athletes. \n",
        "  - Second-class passengers were predominantly middle-class travellers and included professors, authors, clergymen, and tourists. \n",
        "  - Third-class or steerage passengers were primarily immigrants moving to the United States and Canada\n",
        "\n",
        "-Titanic's passengers numbered 1,317 people: 324 in first class, 284 in second class, and 709 in third class. Of these, 805 were male and 434 were female; 112 children were aboard, the largest number of which were in third class.[5] The ship was considerably under capacity on her maiden voyage, as she could accommodate 2,453 passengers—833 first class, 614 second class, and 1,006 third class\n",
        "\n",
        "-The Titanic carried 20 lifeboats, enough for 1178 people out of the 30 lifeboats required\n",
        "\n",
        "-Out of the individuals who were sailing, only 706 survived\n"
      ],
      "metadata": {
        "id": "a84_jApRt1Yy"
      }
    },
    {
      "cell_type": "markdown",
      "source": [
        "#Experimental Design\n",
        "\n",
        "- Import Libraries\n",
        "- Load Dataset\n",
        "- Data Cleaning\n",
        "- Exploratory Data Analysis\n",
        "- Feature Engineering\n",
        "- Train knn Model\n",
        "- Conclusions\n",
        "- Recommendations"
      ],
      "metadata": {
        "id": "m71snNMmzURp"
      }
    },
    {
      "cell_type": "markdown",
      "source": [
        "##**Data Relevance**\n",
        "\n",
        "We are using Titanic dataset ([Link](https://archive.org/download/train5_202002/train%20%285%29.csv)) for this project. The dataset contains the following features:\n",
        "\n",
        "  -PassengerId: Passenger personal identification labelled as 1,2,3,...,891\n",
        "\n",
        "  -Survived: Tells whether a passenger survived or not (0:Not survived, 1:survived)\n",
        "\n",
        "  -***Pclass:*** Passenger class. There are 3 classes; 1,2,3\n",
        "\n",
        "  -***Name:***Passenger name and title\n",
        "\n",
        "  -***Sex:*** Passenger gender; male or female\n",
        "\n",
        "  -***Age:*** Age of the passenger\n",
        "\n",
        "  -***SibSp:***Number of spouses/siblings aboard\n",
        "\n",
        "  -***Parch:*** Number of Parents/Children Aboard\n",
        "\n",
        "  -***Ticket:*** Ticket number\n",
        "\n",
        "  -***Fare:*** Passenger Fare\n",
        "\n",
        "  -***Cabin:*** Cabin\n",
        "\n",
        "  -***Embarked:*** Port of Embarkation (C = Cherbourg; Q = Queenstown; S = Southampton)\n",
        "\n",
        "Our dataset records are similar to kaggle Titanic dataset found [here](https://www.kaggle.com/azeembootwala/titanic?select=train_data.csv)"
      ],
      "metadata": {
        "id": "-_3gqAE4zvXq"
      }
    },
    {
      "cell_type": "markdown",
      "source": [
        "##**Import Libraries**"
      ],
      "metadata": {
        "id": "xM5epJxmDPdI"
      }
    },
    {
      "cell_type": "code",
      "execution_count": null,
      "metadata": {
        "id": "fvMpE4CepMm3"
      },
      "outputs": [],
      "source": [
        "import pandas as pd\n",
        "import numpy as np\n",
        "import matplotlib.pyplot as plt\n",
        "import seaborn as sns; sns.set(font_scale=1.2)\n",
        "palette = ['blue','pink']\n",
        "sns.set_palette(palette)\n",
        "from sklearn.preprocessing import StandardScaler\n",
        "from sklearn.model_selection import train_test_split\n",
        "from sklearn.model_selection import GridSearchCV\n",
        "from sklearn.neighbors import KNeighborsClassifier\n",
        "from sklearn import metrics\n",
        "from sklearn.metrics import  accuracy_score\n",
        "from sklearn.metrics import confusion_matrix\n"
      ]
    },
    {
      "cell_type": "markdown",
      "source": [
        "##**Load Dataset**"
      ],
      "metadata": {
        "id": "cWw4V4voEqI7"
      }
    },
    {
      "cell_type": "code",
      "source": [
        "data = pd.read_csv('/content/train (5).csv')"
      ],
      "metadata": {
        "id": "Q3PvI6CTpYzq"
      },
      "execution_count": null,
      "outputs": []
    },
    {
      "cell_type": "code",
      "source": [
        "#view top 5 records\n",
        "data.head()"
      ],
      "metadata": {
        "colab": {
          "base_uri": "https://localhost:8080/",
          "height": 206
        },
        "id": "9EfR_RxZtTQw",
        "outputId": "dc41ea70-bc95-4ea1-ffaa-c0856dd31098"
      },
      "execution_count": null,
      "outputs": [
        {
          "output_type": "execute_result",
          "data": {
            "text/html": [
              "<div>\n",
              "<style scoped>\n",
              "    .dataframe tbody tr th:only-of-type {\n",
              "        vertical-align: middle;\n",
              "    }\n",
              "\n",
              "    .dataframe tbody tr th {\n",
              "        vertical-align: top;\n",
              "    }\n",
              "\n",
              "    .dataframe thead th {\n",
              "        text-align: right;\n",
              "    }\n",
              "</style>\n",
              "<table border=\"1\" class=\"dataframe\">\n",
              "  <thead>\n",
              "    <tr style=\"text-align: right;\">\n",
              "      <th></th>\n",
              "      <th>PassengerId</th>\n",
              "      <th>Survived</th>\n",
              "      <th>Pclass</th>\n",
              "      <th>Name</th>\n",
              "      <th>Sex</th>\n",
              "      <th>Age</th>\n",
              "      <th>SibSp</th>\n",
              "      <th>Parch</th>\n",
              "      <th>Ticket</th>\n",
              "      <th>Fare</th>\n",
              "      <th>Cabin</th>\n",
              "      <th>Embarked</th>\n",
              "    </tr>\n",
              "  </thead>\n",
              "  <tbody>\n",
              "    <tr>\n",
              "      <th>0</th>\n",
              "      <td>1</td>\n",
              "      <td>0</td>\n",
              "      <td>3</td>\n",
              "      <td>Braund, Mr. Owen Harris</td>\n",
              "      <td>male</td>\n",
              "      <td>22.0</td>\n",
              "      <td>1</td>\n",
              "      <td>0</td>\n",
              "      <td>A/5 21171</td>\n",
              "      <td>7.2500</td>\n",
              "      <td>NaN</td>\n",
              "      <td>S</td>\n",
              "    </tr>\n",
              "    <tr>\n",
              "      <th>1</th>\n",
              "      <td>2</td>\n",
              "      <td>1</td>\n",
              "      <td>1</td>\n",
              "      <td>Cumings, Mrs. John Bradley (Florence Briggs Th...</td>\n",
              "      <td>female</td>\n",
              "      <td>38.0</td>\n",
              "      <td>1</td>\n",
              "      <td>0</td>\n",
              "      <td>PC 17599</td>\n",
              "      <td>71.2833</td>\n",
              "      <td>C85</td>\n",
              "      <td>C</td>\n",
              "    </tr>\n",
              "    <tr>\n",
              "      <th>2</th>\n",
              "      <td>3</td>\n",
              "      <td>1</td>\n",
              "      <td>3</td>\n",
              "      <td>Heikkinen, Miss. Laina</td>\n",
              "      <td>female</td>\n",
              "      <td>26.0</td>\n",
              "      <td>0</td>\n",
              "      <td>0</td>\n",
              "      <td>STON/O2. 3101282</td>\n",
              "      <td>7.9250</td>\n",
              "      <td>NaN</td>\n",
              "      <td>S</td>\n",
              "    </tr>\n",
              "    <tr>\n",
              "      <th>3</th>\n",
              "      <td>4</td>\n",
              "      <td>1</td>\n",
              "      <td>1</td>\n",
              "      <td>Futrelle, Mrs. Jacques Heath (Lily May Peel)</td>\n",
              "      <td>female</td>\n",
              "      <td>35.0</td>\n",
              "      <td>1</td>\n",
              "      <td>0</td>\n",
              "      <td>113803</td>\n",
              "      <td>53.1000</td>\n",
              "      <td>C123</td>\n",
              "      <td>S</td>\n",
              "    </tr>\n",
              "    <tr>\n",
              "      <th>4</th>\n",
              "      <td>5</td>\n",
              "      <td>0</td>\n",
              "      <td>3</td>\n",
              "      <td>Allen, Mr. William Henry</td>\n",
              "      <td>male</td>\n",
              "      <td>35.0</td>\n",
              "      <td>0</td>\n",
              "      <td>0</td>\n",
              "      <td>373450</td>\n",
              "      <td>8.0500</td>\n",
              "      <td>NaN</td>\n",
              "      <td>S</td>\n",
              "    </tr>\n",
              "  </tbody>\n",
              "</table>\n",
              "</div>"
            ],
            "text/plain": [
              "   PassengerId  Survived  Pclass  ...     Fare Cabin  Embarked\n",
              "0            1         0       3  ...   7.2500   NaN         S\n",
              "1            2         1       1  ...  71.2833   C85         C\n",
              "2            3         1       3  ...   7.9250   NaN         S\n",
              "3            4         1       1  ...  53.1000  C123         S\n",
              "4            5         0       3  ...   8.0500   NaN         S\n",
              "\n",
              "[5 rows x 12 columns]"
            ]
          },
          "metadata": {},
          "execution_count": 82
        }
      ]
    },
    {
      "cell_type": "code",
      "source": [
        "#view bottome 5 records\n",
        "data.tail()"
      ],
      "metadata": {
        "colab": {
          "base_uri": "https://localhost:8080/",
          "height": 206
        },
        "id": "wvUdSPHKFKd1",
        "outputId": "dce917c1-2092-4012-c510-c45db72bb272"
      },
      "execution_count": null,
      "outputs": [
        {
          "output_type": "execute_result",
          "data": {
            "text/html": [
              "<div>\n",
              "<style scoped>\n",
              "    .dataframe tbody tr th:only-of-type {\n",
              "        vertical-align: middle;\n",
              "    }\n",
              "\n",
              "    .dataframe tbody tr th {\n",
              "        vertical-align: top;\n",
              "    }\n",
              "\n",
              "    .dataframe thead th {\n",
              "        text-align: right;\n",
              "    }\n",
              "</style>\n",
              "<table border=\"1\" class=\"dataframe\">\n",
              "  <thead>\n",
              "    <tr style=\"text-align: right;\">\n",
              "      <th></th>\n",
              "      <th>PassengerId</th>\n",
              "      <th>Survived</th>\n",
              "      <th>Pclass</th>\n",
              "      <th>Name</th>\n",
              "      <th>Sex</th>\n",
              "      <th>Age</th>\n",
              "      <th>SibSp</th>\n",
              "      <th>Parch</th>\n",
              "      <th>Ticket</th>\n",
              "      <th>Fare</th>\n",
              "      <th>Cabin</th>\n",
              "      <th>Embarked</th>\n",
              "    </tr>\n",
              "  </thead>\n",
              "  <tbody>\n",
              "    <tr>\n",
              "      <th>886</th>\n",
              "      <td>887</td>\n",
              "      <td>0</td>\n",
              "      <td>2</td>\n",
              "      <td>Montvila, Rev. Juozas</td>\n",
              "      <td>male</td>\n",
              "      <td>27.0</td>\n",
              "      <td>0</td>\n",
              "      <td>0</td>\n",
              "      <td>211536</td>\n",
              "      <td>13.00</td>\n",
              "      <td>NaN</td>\n",
              "      <td>S</td>\n",
              "    </tr>\n",
              "    <tr>\n",
              "      <th>887</th>\n",
              "      <td>888</td>\n",
              "      <td>1</td>\n",
              "      <td>1</td>\n",
              "      <td>Graham, Miss. Margaret Edith</td>\n",
              "      <td>female</td>\n",
              "      <td>19.0</td>\n",
              "      <td>0</td>\n",
              "      <td>0</td>\n",
              "      <td>112053</td>\n",
              "      <td>30.00</td>\n",
              "      <td>B42</td>\n",
              "      <td>S</td>\n",
              "    </tr>\n",
              "    <tr>\n",
              "      <th>888</th>\n",
              "      <td>889</td>\n",
              "      <td>0</td>\n",
              "      <td>3</td>\n",
              "      <td>Johnston, Miss. Catherine Helen \"Carrie\"</td>\n",
              "      <td>female</td>\n",
              "      <td>NaN</td>\n",
              "      <td>1</td>\n",
              "      <td>2</td>\n",
              "      <td>W./C. 6607</td>\n",
              "      <td>23.45</td>\n",
              "      <td>NaN</td>\n",
              "      <td>S</td>\n",
              "    </tr>\n",
              "    <tr>\n",
              "      <th>889</th>\n",
              "      <td>890</td>\n",
              "      <td>1</td>\n",
              "      <td>1</td>\n",
              "      <td>Behr, Mr. Karl Howell</td>\n",
              "      <td>male</td>\n",
              "      <td>26.0</td>\n",
              "      <td>0</td>\n",
              "      <td>0</td>\n",
              "      <td>111369</td>\n",
              "      <td>30.00</td>\n",
              "      <td>C148</td>\n",
              "      <td>C</td>\n",
              "    </tr>\n",
              "    <tr>\n",
              "      <th>890</th>\n",
              "      <td>891</td>\n",
              "      <td>0</td>\n",
              "      <td>3</td>\n",
              "      <td>Dooley, Mr. Patrick</td>\n",
              "      <td>male</td>\n",
              "      <td>32.0</td>\n",
              "      <td>0</td>\n",
              "      <td>0</td>\n",
              "      <td>370376</td>\n",
              "      <td>7.75</td>\n",
              "      <td>NaN</td>\n",
              "      <td>Q</td>\n",
              "    </tr>\n",
              "  </tbody>\n",
              "</table>\n",
              "</div>"
            ],
            "text/plain": [
              "     PassengerId  Survived  Pclass  ...   Fare Cabin  Embarked\n",
              "886          887         0       2  ...  13.00   NaN         S\n",
              "887          888         1       1  ...  30.00   B42         S\n",
              "888          889         0       3  ...  23.45   NaN         S\n",
              "889          890         1       1  ...  30.00  C148         C\n",
              "890          891         0       3  ...   7.75   NaN         Q\n",
              "\n",
              "[5 rows x 12 columns]"
            ]
          },
          "metadata": {},
          "execution_count": 83
        }
      ]
    },
    {
      "cell_type": "code",
      "source": [
        "#view random 5 sample records\n",
        "data.sample(5)"
      ],
      "metadata": {
        "colab": {
          "base_uri": "https://localhost:8080/",
          "height": 206
        },
        "id": "_nDUk7pDFRbJ",
        "outputId": "e16a572c-846d-4953-8c03-f69c2f636873"
      },
      "execution_count": null,
      "outputs": [
        {
          "output_type": "execute_result",
          "data": {
            "text/html": [
              "<div>\n",
              "<style scoped>\n",
              "    .dataframe tbody tr th:only-of-type {\n",
              "        vertical-align: middle;\n",
              "    }\n",
              "\n",
              "    .dataframe tbody tr th {\n",
              "        vertical-align: top;\n",
              "    }\n",
              "\n",
              "    .dataframe thead th {\n",
              "        text-align: right;\n",
              "    }\n",
              "</style>\n",
              "<table border=\"1\" class=\"dataframe\">\n",
              "  <thead>\n",
              "    <tr style=\"text-align: right;\">\n",
              "      <th></th>\n",
              "      <th>PassengerId</th>\n",
              "      <th>Survived</th>\n",
              "      <th>Pclass</th>\n",
              "      <th>Name</th>\n",
              "      <th>Sex</th>\n",
              "      <th>Age</th>\n",
              "      <th>SibSp</th>\n",
              "      <th>Parch</th>\n",
              "      <th>Ticket</th>\n",
              "      <th>Fare</th>\n",
              "      <th>Cabin</th>\n",
              "      <th>Embarked</th>\n",
              "    </tr>\n",
              "  </thead>\n",
              "  <tbody>\n",
              "    <tr>\n",
              "      <th>412</th>\n",
              "      <td>413</td>\n",
              "      <td>1</td>\n",
              "      <td>1</td>\n",
              "      <td>Minahan, Miss. Daisy E</td>\n",
              "      <td>female</td>\n",
              "      <td>33.0</td>\n",
              "      <td>1</td>\n",
              "      <td>0</td>\n",
              "      <td>19928</td>\n",
              "      <td>90.000</td>\n",
              "      <td>C78</td>\n",
              "      <td>Q</td>\n",
              "    </tr>\n",
              "    <tr>\n",
              "      <th>432</th>\n",
              "      <td>433</td>\n",
              "      <td>1</td>\n",
              "      <td>2</td>\n",
              "      <td>Louch, Mrs. Charles Alexander (Alice Adelaide ...</td>\n",
              "      <td>female</td>\n",
              "      <td>42.0</td>\n",
              "      <td>1</td>\n",
              "      <td>0</td>\n",
              "      <td>SC/AH 3085</td>\n",
              "      <td>26.000</td>\n",
              "      <td>NaN</td>\n",
              "      <td>S</td>\n",
              "    </tr>\n",
              "    <tr>\n",
              "      <th>147</th>\n",
              "      <td>148</td>\n",
              "      <td>0</td>\n",
              "      <td>3</td>\n",
              "      <td>Ford, Miss. Robina Maggie \"Ruby\"</td>\n",
              "      <td>female</td>\n",
              "      <td>9.0</td>\n",
              "      <td>2</td>\n",
              "      <td>2</td>\n",
              "      <td>W./C. 6608</td>\n",
              "      <td>34.375</td>\n",
              "      <td>NaN</td>\n",
              "      <td>S</td>\n",
              "    </tr>\n",
              "    <tr>\n",
              "      <th>107</th>\n",
              "      <td>108</td>\n",
              "      <td>1</td>\n",
              "      <td>3</td>\n",
              "      <td>Moss, Mr. Albert Johan</td>\n",
              "      <td>male</td>\n",
              "      <td>NaN</td>\n",
              "      <td>0</td>\n",
              "      <td>0</td>\n",
              "      <td>312991</td>\n",
              "      <td>7.775</td>\n",
              "      <td>NaN</td>\n",
              "      <td>S</td>\n",
              "    </tr>\n",
              "    <tr>\n",
              "      <th>602</th>\n",
              "      <td>603</td>\n",
              "      <td>0</td>\n",
              "      <td>1</td>\n",
              "      <td>Harrington, Mr. Charles H</td>\n",
              "      <td>male</td>\n",
              "      <td>NaN</td>\n",
              "      <td>0</td>\n",
              "      <td>0</td>\n",
              "      <td>113796</td>\n",
              "      <td>42.400</td>\n",
              "      <td>NaN</td>\n",
              "      <td>S</td>\n",
              "    </tr>\n",
              "  </tbody>\n",
              "</table>\n",
              "</div>"
            ],
            "text/plain": [
              "     PassengerId  Survived  Pclass  ...    Fare Cabin  Embarked\n",
              "412          413         1       1  ...  90.000   C78         Q\n",
              "432          433         1       2  ...  26.000   NaN         S\n",
              "147          148         0       3  ...  34.375   NaN         S\n",
              "107          108         1       3  ...   7.775   NaN         S\n",
              "602          603         0       1  ...  42.400   NaN         S\n",
              "\n",
              "[5 rows x 12 columns]"
            ]
          },
          "metadata": {},
          "execution_count": 53
        }
      ]
    },
    {
      "cell_type": "markdown",
      "source": [
        "Our dataset contains true records of expected rows and columns"
      ],
      "metadata": {
        "id": "I_4cRRtkF6Uv"
      }
    },
    {
      "cell_type": "code",
      "source": [
        "#check number of rows and columns in our dataset\n",
        "print('This dataset has',data.shape[0],'rows and',data.shape[1],'columns')"
      ],
      "metadata": {
        "colab": {
          "base_uri": "https://localhost:8080/"
        },
        "id": "N1PhOgmK1oZT",
        "outputId": "4b678d29-31cf-4069-b49d-1c1768505b2a"
      },
      "execution_count": null,
      "outputs": [
        {
          "output_type": "stream",
          "name": "stdout",
          "text": [
            "This dataset has 891 rows and 12 columns\n"
          ]
        }
      ]
    },
    {
      "cell_type": "markdown",
      "source": [
        "Our dataset has 891 instances and 12 attributes"
      ],
      "metadata": {
        "id": "HZyVR67yDvIm"
      }
    },
    {
      "cell_type": "code",
      "source": [
        "#check data information\n",
        "data.info()"
      ],
      "metadata": {
        "colab": {
          "base_uri": "https://localhost:8080/"
        },
        "id": "NWPNBFDED93X",
        "outputId": "42064e42-fc6d-4399-e08b-6b25e8fd85b2"
      },
      "execution_count": null,
      "outputs": [
        {
          "output_type": "stream",
          "name": "stdout",
          "text": [
            "<class 'pandas.core.frame.DataFrame'>\n",
            "RangeIndex: 891 entries, 0 to 890\n",
            "Data columns (total 12 columns):\n",
            " #   Column       Non-Null Count  Dtype  \n",
            "---  ------       --------------  -----  \n",
            " 0   PassengerId  891 non-null    int64  \n",
            " 1   Survived     891 non-null    int64  \n",
            " 2   Pclass       891 non-null    int64  \n",
            " 3   Name         891 non-null    object \n",
            " 4   Sex          891 non-null    object \n",
            " 5   Age          714 non-null    float64\n",
            " 6   SibSp        891 non-null    int64  \n",
            " 7   Parch        891 non-null    int64  \n",
            " 8   Ticket       891 non-null    object \n",
            " 9   Fare         891 non-null    float64\n",
            " 10  Cabin        204 non-null    object \n",
            " 11  Embarked     889 non-null    object \n",
            "dtypes: float64(2), int64(5), object(5)\n",
            "memory usage: 83.7+ KB\n"
          ]
        }
      ]
    },
    {
      "cell_type": "markdown",
      "source": [
        "-There are 7 numerical variables and 5 categorical variables in the dataset.\n",
        "\n",
        "-11 variables are our feature variables and only one ('survived' column) is our target variable. Our target variable is a discrete type\n"
      ],
      "metadata": {
        "id": "LAlTlvY6GfnK"
      }
    },
    {
      "cell_type": "markdown",
      "source": [
        "##**Data Cleaning**\n",
        "Here we will check and deal with:\n",
        "   - Missing values \n",
        "   - Duplicates \n",
        "   - Outliers & anomalies"
      ],
      "metadata": {
        "id": "jhaY3PY4IL92"
      }
    },
    {
      "cell_type": "code",
      "source": [
        "#check for missing values\n",
        "#we will check percentages\n",
        "print('Percentage of Missing values:\\n',(data.isnull().sum()/len(data))*100)"
      ],
      "metadata": {
        "colab": {
          "base_uri": "https://localhost:8080/"
        },
        "id": "Q3rQ4stwtdgE",
        "outputId": "4a1ee7d7-1727-4907-efaa-24c55cfbd84a"
      },
      "execution_count": null,
      "outputs": [
        {
          "output_type": "stream",
          "name": "stdout",
          "text": [
            "Percentage of Missing values:\n",
            " PassengerId     0.000000\n",
            "Survived        0.000000\n",
            "Pclass          0.000000\n",
            "Name            0.000000\n",
            "Sex             0.000000\n",
            "Age            19.865320\n",
            "SibSp           0.000000\n",
            "Parch           0.000000\n",
            "Ticket          0.000000\n",
            "Fare            0.000000\n",
            "Cabin          77.104377\n",
            "Embarked        0.224467\n",
            "dtype: float64\n"
          ]
        }
      ]
    },
    {
      "cell_type": "markdown",
      "source": [
        "-Age, cabin and embarked columns has missing values. \n",
        "\n",
        "-Age column has 19.86% missing values, cabin has 77.10% and Embarked column has 0.22%\n",
        "\n",
        "-Age numerical and positively skewed as you see later in the visualizations, therefore we will impute with median\n",
        "\n",
        "-We will drop Cabin column because its missing values are too many. It will negatively affect our analysis\n",
        "\n",
        "-Embarked column is categorical and so we will impute with the mode"
      ],
      "metadata": {
        "id": "GF4rCp14IpJ2"
      }
    },
    {
      "cell_type": "code",
      "source": [
        "#fill 'Age' with median\n",
        "data['Age'].fillna(data['Age'].median(),inplace=True)\n",
        "\n",
        "#fill 'Embarked' with mode\n",
        "data['Embarked'].fillna(data['Embarked'].mode()[0],inplace=True)\n",
        "\n",
        "#drop 'Cabin' column\n",
        "data.drop('Cabin',axis=1,inplace=True)"
      ],
      "metadata": {
        "id": "KieXNtSRwOpp"
      },
      "execution_count": null,
      "outputs": []
    },
    {
      "cell_type": "markdown",
      "source": [
        "Next we will check and deal with the duplicates"
      ],
      "metadata": {
        "id": "BNveps8-NcNa"
      }
    },
    {
      "cell_type": "code",
      "source": [
        "#check duplicates\n",
        "data.duplicated().sum()"
      ],
      "metadata": {
        "colab": {
          "base_uri": "https://localhost:8080/"
        },
        "id": "-VeQVgnXNz7O",
        "outputId": "076aed75-408b-475c-e868-8dd5294b52b1"
      },
      "execution_count": null,
      "outputs": [
        {
          "output_type": "execute_result",
          "data": {
            "text/plain": [
              "0"
            ]
          },
          "metadata": {},
          "execution_count": 59
        }
      ]
    },
    {
      "cell_type": "markdown",
      "source": [
        "-Our dataset has no duplicates.\n",
        "\n",
        "-Let's look at the outliers and anomalies"
      ],
      "metadata": {
        "id": "dPKALVmLN7SI"
      }
    },
    {
      "cell_type": "markdown",
      "source": [
        "##**Outliers and Anomalies**\n",
        "\n",
        "-Here we will plot boxplots "
      ],
      "metadata": {
        "id": "-4qCwCOBOSr6"
      }
    },
    {
      "cell_type": "code",
      "source": [
        "\n",
        "#Pclass & Fare\n",
        "fig, axes = plt.subplots(1, 2, figsize=(15, 5), sharey=True)\n",
        "fig.suptitle('Pclass & Fare',weight='bold')\n",
        "sns.boxplot(ax=axes[0],x=data['Pclass'])\n",
        "sns.boxplot(ax=axes[1],x=data['Fare'])"
      ],
      "metadata": {
        "colab": {
          "base_uri": "https://localhost:8080/",
          "height": 397
        },
        "id": "hA9yWQgPzTEK",
        "outputId": "503bf1fb-d1d1-4f80-bb48-fd340cb2ad85"
      },
      "execution_count": null,
      "outputs": [
        {
          "output_type": "execute_result",
          "data": {
            "text/plain": [
              "<matplotlib.axes._subplots.AxesSubplot at 0x7fdf848ca5d0>"
            ]
          },
          "metadata": {},
          "execution_count": 86
        },
        {
          "output_type": "display_data",
          "data": {
            "image/png": "[encoded data removed]",
            "text/plain": [
              "<Figure size 1080x360 with 2 Axes>"
            ]
          },
          "metadata": {}
        }
      ]
    },
    {
      "cell_type": "markdown",
      "source": [
        "-Pclass has no outliers.\n",
        "\n",
        "-Fare column contain outliers. Titanic had 3 classes of passengers\n",
        "- First class passengers were some of the richest and most important people of the time. They included businessmen like John Jacob Astor IV and Benjamin Guggenheim, as well as members of the upper classes and even sportsmen.\n",
        "\n",
        "- Many of the second class passengers were tourists, made up of professions such as teachers and clergy\n",
        "- The passengers in third class were mainly immigrants heading for a new life in America\n",
        "\n",
        "Tickect prices were dependent on the passenger class type and it is true that there were variations in fare tickets and therefore we will not drop the outliers"
      ],
      "metadata": {
        "id": "DSfP1ZuVPqUI"
      }
    },
    {
      "cell_type": "code",
      "source": [
        "#Age & SibSp\n",
        "#\n",
        "fig, axes = plt.subplots(1, 2, figsize=(15, 5), sharey=True)\n",
        "fig.suptitle('Age & SibSp',weight='bold')\n",
        "sns.boxplot(ax=axes[0],x=data['Age'])\n",
        "sns.boxplot(ax=axes[1],x=data['SibSp'])"
      ],
      "metadata": {
        "colab": {
          "base_uri": "https://localhost:8080/",
          "height": 397
        },
        "id": "XX79ryMizJw2",
        "outputId": "64249bf2-3236-4d65-98d2-cc307aae3e2d"
      },
      "execution_count": null,
      "outputs": [
        {
          "output_type": "execute_result",
          "data": {
            "text/plain": [
              "<matplotlib.axes._subplots.AxesSubplot at 0x7fdf7adb3810>"
            ]
          },
          "metadata": {},
          "execution_count": 61
        },
        {
          "output_type": "display_data",
          "data": {
            "image/png": "[encoded data removed]",
            "text/plain": [
              "<Figure size 1080x360 with 2 Axes>"
            ]
          },
          "metadata": {}
        }
      ]
    },
    {
      "cell_type": "markdown",
      "source": [
        "-Age column contains outliers. History shows that the oldest person who aboarded the Titanic was 80 years old while the youngest was just a few months. The outliers are therefore within the range.\n",
        "\n",
        "-Sibsp (Number of Siblings/Spouses Aboard) also has outliers. The outliers could be true observations and therefore we will keeep them"
      ],
      "metadata": {
        "id": "knEqoJBGSiXJ"
      }
    },
    {
      "cell_type": "markdown",
      "source": [
        "##**Exploratory Data Analysis**"
      ],
      "metadata": {
        "id": "aSoRysveXtTy"
      }
    },
    {
      "cell_type": "code",
      "source": [
        "#percentage of passenger survival?\n",
        "labels = ['Not Survived','Survived']\n",
        "data['Survived'].value_counts().plot(kind='pie',autopct='%.2f%%',labels=labels)\n",
        "\n"
      ],
      "metadata": {
        "colab": {
          "base_uri": "https://localhost:8080/",
          "height": 266
        },
        "id": "__mfmNFB0e9I",
        "outputId": "1afc41ee-d41e-4794-8a9c-3c3525e80fcc"
      },
      "execution_count": null,
      "outputs": [
        {
          "output_type": "execute_result",
          "data": {
            "text/plain": [
              "<matplotlib.axes._subplots.AxesSubplot at 0x7fdf7aceb390>"
            ]
          },
          "metadata": {},
          "execution_count": 62
        },
        {
          "output_type": "display_data",
          "data": {
            "image/png": "[encoded data removed]",
            "text/plain": [
              "<Figure size 432x288 with 1 Axes>"
            ]
          },
          "metadata": {}
        }
      ]
    },
    {
      "cell_type": "markdown",
      "source": [
        "More people died (61.62%) than survived (38.38%)"
      ],
      "metadata": {
        "id": "GpTAQB7Daze8"
      }
    },
    {
      "cell_type": "code",
      "source": [
        "#Survived vs Class\n",
        "sns.catplot(x='Pclass',hue='Survived',data=data,kind='count',aspect=1.5)\n",
        "plt.title('Survived vs Class',weight='bold')"
      ],
      "metadata": {
        "colab": {
          "base_uri": "https://localhost:8080/",
          "height": 395
        },
        "id": "ibXaTAVNblAc",
        "outputId": "5755a281-73dd-441a-afdc-2282e57bce84"
      },
      "execution_count": null,
      "outputs": [
        {
          "output_type": "execute_result",
          "data": {
            "text/plain": [
              "Text(0.5, 1.0, 'Survived vs Class')"
            ]
          },
          "metadata": {},
          "execution_count": 37
        },
        {
          "output_type": "display_data",
          "data": {
            "image/png": "[encoded data removed]",
            "text/plain": [
              "<Figure size 613.81x360 with 1 Axes>"
            ]
          },
          "metadata": {}
        }
      ]
    },
    {
      "cell_type": "markdown",
      "source": [
        "-More of the first class passengers survived because their cabins were closer to the lifeboats\n",
        "\n",
        "-on the other hand, most third-class passengers died. These passengers were confined to their area of the Titanic. They were stucked in the lower decks had no idea what was happening and were left trapped and confused "
      ],
      "metadata": {
        "id": "nQAXtikcb-PI"
      }
    },
    {
      "cell_type": "code",
      "source": [
        "#Gender vs class survival\n",
        "sns.catplot(x='Pclass',y='Survived',hue='Sex', kind='bar', data=data,aspect=1.5)\n",
        "plt.title('Gender vs class survival',weight='bold')"
      ],
      "metadata": {
        "colab": {
          "base_uri": "https://localhost:8080/",
          "height": 395
        },
        "id": "jSOLqErmeJqk",
        "outputId": "06519b26-6882-47b8-80c3-c9d701ac3cdb"
      },
      "execution_count": null,
      "outputs": [
        {
          "output_type": "execute_result",
          "data": {
            "text/plain": [
              "Text(0.5, 1.0, 'Gender vs class survival')"
            ]
          },
          "metadata": {},
          "execution_count": 41
        },
        {
          "output_type": "display_data",
          "data": {
            "image/png": "[encoded data removed]",
            "text/plain": [
              "<Figure size 633.52x360 with 1 Axes>"
            ]
          },
          "metadata": {}
        }
      ]
    },
    {
      "cell_type": "markdown",
      "source": [
        "-Women had a much higher chance of survival — regardless of what class they were in. They were given lifeboat priority"
      ],
      "metadata": {
        "id": "zU2iZo1ufnRQ"
      }
    },
    {
      "cell_type": "code",
      "source": [
        "#Embarked vs survival\n",
        "sns.catplot(x='Embarked',y='Survived', kind='point', data=data,aspect=1.5)\n",
        "plt.title('Survival vs Port',weight='bold')"
      ],
      "metadata": {
        "colab": {
          "base_uri": "https://localhost:8080/",
          "height": 395
        },
        "id": "__x9f9TchGsV",
        "outputId": "c21f064a-8301-4ac6-e357-d12fa5959f40"
      },
      "execution_count": null,
      "outputs": [
        {
          "output_type": "execute_result",
          "data": {
            "text/plain": [
              "Text(0.5, 1.0, 'Survival vs Port')"
            ]
          },
          "metadata": {},
          "execution_count": 44
        },
        {
          "output_type": "display_data",
          "data": {
            "image/png": "[encoded data removed]",
            "text/plain": [
              "<Figure size 540x360 with 1 Axes>"
            ]
          },
          "metadata": {}
        }
      ]
    },
    {
      "cell_type": "markdown",
      "source": [
        "-Embarked implies where the traveler mounted from. There are three possible values for Embark — Southampton, Cherbourg, and Queenstown.\n",
        "\n",
        "The highest rate of survival was from Cherbourg(C), France. This could be because of passenger class or gender distribution."
      ],
      "metadata": {
        "id": "H_uVneUmjVBV"
      }
    },
    {
      "cell_type": "code",
      "source": [
        "# plot correlation heatmap to find out correlations\n",
        "corr = data.corr()\n",
        "plt.figure(figsize=(16,12))\n",
        "data.corr().style.format(\"{:.4}\").background_gradient(cmap=plt.get_cmap('coolwarm'), axis=1)\n"
      ],
      "metadata": {
        "colab": {
          "base_uri": "https://localhost:8080/",
          "height": 287
        },
        "id": "aReXPzWN3RI3",
        "outputId": "1f22086f-6361-4721-9519-d1a20c1d7647"
      },
      "execution_count": null,
      "outputs": [
        {
          "output_type": "execute_result",
          "data": {
            "text/html": [
              "<style  type=\"text/css\" >\n",
              "#T_6a63ce88_5a65_11ec_9aa9_0242ac1c0002row0_col0,#T_6a63ce88_5a65_11ec_9aa9_0242ac1c0002row1_col1,#T_6a63ce88_5a65_11ec_9aa9_0242ac1c0002row2_col2,#T_6a63ce88_5a65_11ec_9aa9_0242ac1c0002row3_col3,#T_6a63ce88_5a65_11ec_9aa9_0242ac1c0002row4_col4,#T_6a63ce88_5a65_11ec_9aa9_0242ac1c0002row5_col5,#T_6a63ce88_5a65_11ec_9aa9_0242ac1c0002row6_col6{\n",
              "            background-color:  #b40426;\n",
              "            color:  #f1f1f1;\n",
              "        }#T_6a63ce88_5a65_11ec_9aa9_0242ac1c0002row0_col1{\n",
              "            background-color:  #4961d2;\n",
              "            color:  #f1f1f1;\n",
              "        }#T_6a63ce88_5a65_11ec_9aa9_0242ac1c0002row0_col2{\n",
              "            background-color:  #4055c8;\n",
              "            color:  #f1f1f1;\n",
              "        }#T_6a63ce88_5a65_11ec_9aa9_0242ac1c0002row0_col3{\n",
              "            background-color:  #5572df;\n",
              "            color:  #000000;\n",
              "        }#T_6a63ce88_5a65_11ec_9aa9_0242ac1c0002row0_col4,#T_6a63ce88_5a65_11ec_9aa9_0242ac1c0002row1_col2,#T_6a63ce88_5a65_11ec_9aa9_0242ac1c0002row2_col6,#T_6a63ce88_5a65_11ec_9aa9_0242ac1c0002row3_col2,#T_6a63ce88_5a65_11ec_9aa9_0242ac1c0002row4_col3,#T_6a63ce88_5a65_11ec_9aa9_0242ac1c0002row5_col3,#T_6a63ce88_5a65_11ec_9aa9_0242ac1c0002row6_col2{\n",
              "            background-color:  #3b4cc0;\n",
              "            color:  #f1f1f1;\n",
              "        }#T_6a63ce88_5a65_11ec_9aa9_0242ac1c0002row0_col5{\n",
              "            background-color:  #4a63d3;\n",
              "            color:  #f1f1f1;\n",
              "        }#T_6a63ce88_5a65_11ec_9aa9_0242ac1c0002row0_col6{\n",
              "            background-color:  #4e68d8;\n",
              "            color:  #000000;\n",
              "        }#T_6a63ce88_5a65_11ec_9aa9_0242ac1c0002row1_col0{\n",
              "            background-color:  #8caffe;\n",
              "            color:  #000000;\n",
              "        }#T_6a63ce88_5a65_11ec_9aa9_0242ac1c0002row1_col3,#T_6a63ce88_5a65_11ec_9aa9_0242ac1c0002row3_col1{\n",
              "            background-color:  #7da0f9;\n",
              "            color:  #000000;\n",
              "        }#T_6a63ce88_5a65_11ec_9aa9_0242ac1c0002row1_col4{\n",
              "            background-color:  #84a7fc;\n",
              "            color:  #000000;\n",
              "        }#T_6a63ce88_5a65_11ec_9aa9_0242ac1c0002row1_col5{\n",
              "            background-color:  #a3c2fe;\n",
              "            color:  #000000;\n",
              "        }#T_6a63ce88_5a65_11ec_9aa9_0242ac1c0002row1_col6{\n",
              "            background-color:  #cdd9ec;\n",
              "            color:  #000000;\n",
              "        }#T_6a63ce88_5a65_11ec_9aa9_0242ac1c0002row2_col0,#T_6a63ce88_5a65_11ec_9aa9_0242ac1c0002row5_col6{\n",
              "            background-color:  #a9c6fd;\n",
              "            color:  #000000;\n",
              "        }#T_6a63ce88_5a65_11ec_9aa9_0242ac1c0002row2_col1,#T_6a63ce88_5a65_11ec_9aa9_0242ac1c0002row2_col3{\n",
              "            background-color:  #6485ec;\n",
              "            color:  #000000;\n",
              "        }#T_6a63ce88_5a65_11ec_9aa9_0242ac1c0002row2_col4{\n",
              "            background-color:  #c3d5f4;\n",
              "            color:  #000000;\n",
              "        }#T_6a63ce88_5a65_11ec_9aa9_0242ac1c0002row2_col5{\n",
              "            background-color:  #b5cdfa;\n",
              "            color:  #000000;\n",
              "        }#T_6a63ce88_5a65_11ec_9aa9_0242ac1c0002row3_col0{\n",
              "            background-color:  #97b8ff;\n",
              "            color:  #000000;\n",
              "        }#T_6a63ce88_5a65_11ec_9aa9_0242ac1c0002row3_col4{\n",
              "            background-color:  #536edd;\n",
              "            color:  #000000;\n",
              "        }#T_6a63ce88_5a65_11ec_9aa9_0242ac1c0002row3_col5{\n",
              "            background-color:  #6180e9;\n",
              "            color:  #000000;\n",
              "        }#T_6a63ce88_5a65_11ec_9aa9_0242ac1c0002row3_col6{\n",
              "            background-color:  #a7c5fe;\n",
              "            color:  #000000;\n",
              "        }#T_6a63ce88_5a65_11ec_9aa9_0242ac1c0002row4_col0{\n",
              "            background-color:  #6788ee;\n",
              "            color:  #000000;\n",
              "        }#T_6a63ce88_5a65_11ec_9aa9_0242ac1c0002row4_col1,#T_6a63ce88_5a65_11ec_9aa9_0242ac1c0002row5_col2{\n",
              "            background-color:  #6e90f2;\n",
              "            color:  #000000;\n",
              "        }#T_6a63ce88_5a65_11ec_9aa9_0242ac1c0002row4_col2{\n",
              "            background-color:  #8fb1fe;\n",
              "            color:  #000000;\n",
              "        }#T_6a63ce88_5a65_11ec_9aa9_0242ac1c0002row4_col5{\n",
              "            background-color:  #e3d9d3;\n",
              "            color:  #000000;\n",
              "        }#T_6a63ce88_5a65_11ec_9aa9_0242ac1c0002row4_col6{\n",
              "            background-color:  #a5c3fe;\n",
              "            color:  #000000;\n",
              "        }#T_6a63ce88_5a65_11ec_9aa9_0242ac1c0002row5_col0{\n",
              "            background-color:  #688aef;\n",
              "            color:  #000000;\n",
              "        }#T_6a63ce88_5a65_11ec_9aa9_0242ac1c0002row5_col1{\n",
              "            background-color:  #81a4fb;\n",
              "            color:  #000000;\n",
              "        }#T_6a63ce88_5a65_11ec_9aa9_0242ac1c0002row5_col4{\n",
              "            background-color:  #dddcdc;\n",
              "            color:  #000000;\n",
              "        }#T_6a63ce88_5a65_11ec_9aa9_0242ac1c0002row6_col0{\n",
              "            background-color:  #b3cdfb;\n",
              "            color:  #000000;\n",
              "        }#T_6a63ce88_5a65_11ec_9aa9_0242ac1c0002row6_col1{\n",
              "            background-color:  #e2dad5;\n",
              "            color:  #000000;\n",
              "        }#T_6a63ce88_5a65_11ec_9aa9_0242ac1c0002row6_col3{\n",
              "            background-color:  #c5d6f2;\n",
              "            color:  #000000;\n",
              "        }#T_6a63ce88_5a65_11ec_9aa9_0242ac1c0002row6_col4{\n",
              "            background-color:  #d2dbe8;\n",
              "            color:  #000000;\n",
              "        }#T_6a63ce88_5a65_11ec_9aa9_0242ac1c0002row6_col5{\n",
              "            background-color:  #dbdcde;\n",
              "            color:  #000000;\n",
              "        }</style><table id=\"T_6a63ce88_5a65_11ec_9aa9_0242ac1c0002\" class=\"dataframe\"><thead>    <tr>        <th class=\"blank level0\" ></th>        <th class=\"col_heading level0 col0\" >PassengerId</th>        <th class=\"col_heading level0 col1\" >Survived</th>        <th class=\"col_heading level0 col2\" >Pclass</th>        <th class=\"col_heading level0 col3\" >Age</th>        <th class=\"col_heading level0 col4\" >SibSp</th>        <th class=\"col_heading level0 col5\" >Parch</th>        <th class=\"col_heading level0 col6\" >Fare</th>    </tr></thead><tbody>\n",
              "                <tr>\n",
              "                        <th id=\"T_6a63ce88_5a65_11ec_9aa9_0242ac1c0002level0_row0\" class=\"row_heading level0 row0\" >PassengerId</th>\n",
              "                        <td id=\"T_6a63ce88_5a65_11ec_9aa9_0242ac1c0002row0_col0\" class=\"data row0 col0\" >1.0</td>\n",
              "                        <td id=\"T_6a63ce88_5a65_11ec_9aa9_0242ac1c0002row0_col1\" class=\"data row0 col1\" >-0.005007</td>\n",
              "                        <td id=\"T_6a63ce88_5a65_11ec_9aa9_0242ac1c0002row0_col2\" class=\"data row0 col2\" >-0.03514</td>\n",
              "                        <td id=\"T_6a63ce88_5a65_11ec_9aa9_0242ac1c0002row0_col3\" class=\"data row0 col3\" >0.03421</td>\n",
              "                        <td id=\"T_6a63ce88_5a65_11ec_9aa9_0242ac1c0002row0_col4\" class=\"data row0 col4\" >-0.05753</td>\n",
              "                        <td id=\"T_6a63ce88_5a65_11ec_9aa9_0242ac1c0002row0_col5\" class=\"data row0 col5\" >-0.001652</td>\n",
              "                        <td id=\"T_6a63ce88_5a65_11ec_9aa9_0242ac1c0002row0_col6\" class=\"data row0 col6\" >0.01266</td>\n",
              "            </tr>\n",
              "            <tr>\n",
              "                        <th id=\"T_6a63ce88_5a65_11ec_9aa9_0242ac1c0002level0_row1\" class=\"row_heading level0 row1\" >Survived</th>\n",
              "                        <td id=\"T_6a63ce88_5a65_11ec_9aa9_0242ac1c0002row1_col0\" class=\"data row1 col0\" >-0.005007</td>\n",
              "                        <td id=\"T_6a63ce88_5a65_11ec_9aa9_0242ac1c0002row1_col1\" class=\"data row1 col1\" >1.0</td>\n",
              "                        <td id=\"T_6a63ce88_5a65_11ec_9aa9_0242ac1c0002row1_col2\" class=\"data row1 col2\" >-0.3385</td>\n",
              "                        <td id=\"T_6a63ce88_5a65_11ec_9aa9_0242ac1c0002row1_col3\" class=\"data row1 col3\" >-0.06491</td>\n",
              "                        <td id=\"T_6a63ce88_5a65_11ec_9aa9_0242ac1c0002row1_col4\" class=\"data row1 col4\" >-0.03532</td>\n",
              "                        <td id=\"T_6a63ce88_5a65_11ec_9aa9_0242ac1c0002row1_col5\" class=\"data row1 col5\" >0.08163</td>\n",
              "                        <td id=\"T_6a63ce88_5a65_11ec_9aa9_0242ac1c0002row1_col6\" class=\"data row1 col6\" >0.2573</td>\n",
              "            </tr>\n",
              "            <tr>\n",
              "                        <th id=\"T_6a63ce88_5a65_11ec_9aa9_0242ac1c0002level0_row2\" class=\"row_heading level0 row2\" >Pclass</th>\n",
              "                        <td id=\"T_6a63ce88_5a65_11ec_9aa9_0242ac1c0002row2_col0\" class=\"data row2 col0\" >-0.03514</td>\n",
              "                        <td id=\"T_6a63ce88_5a65_11ec_9aa9_0242ac1c0002row2_col1\" class=\"data row2 col1\" >-0.3385</td>\n",
              "                        <td id=\"T_6a63ce88_5a65_11ec_9aa9_0242ac1c0002row2_col2\" class=\"data row2 col2\" >1.0</td>\n",
              "                        <td id=\"T_6a63ce88_5a65_11ec_9aa9_0242ac1c0002row2_col3\" class=\"data row2 col3\" >-0.3399</td>\n",
              "                        <td id=\"T_6a63ce88_5a65_11ec_9aa9_0242ac1c0002row2_col4\" class=\"data row2 col4\" >0.08308</td>\n",
              "                        <td id=\"T_6a63ce88_5a65_11ec_9aa9_0242ac1c0002row2_col5\" class=\"data row2 col5\" >0.01844</td>\n",
              "                        <td id=\"T_6a63ce88_5a65_11ec_9aa9_0242ac1c0002row2_col6\" class=\"data row2 col6\" >-0.5495</td>\n",
              "            </tr>\n",
              "            <tr>\n",
              "                        <th id=\"T_6a63ce88_5a65_11ec_9aa9_0242ac1c0002level0_row3\" class=\"row_heading level0 row3\" >Age</th>\n",
              "                        <td id=\"T_6a63ce88_5a65_11ec_9aa9_0242ac1c0002row3_col0\" class=\"data row3 col0\" >0.03421</td>\n",
              "                        <td id=\"T_6a63ce88_5a65_11ec_9aa9_0242ac1c0002row3_col1\" class=\"data row3 col1\" >-0.06491</td>\n",
              "                        <td id=\"T_6a63ce88_5a65_11ec_9aa9_0242ac1c0002row3_col2\" class=\"data row3 col2\" >-0.3399</td>\n",
              "                        <td id=\"T_6a63ce88_5a65_11ec_9aa9_0242ac1c0002row3_col3\" class=\"data row3 col3\" >1.0</td>\n",
              "                        <td id=\"T_6a63ce88_5a65_11ec_9aa9_0242ac1c0002row3_col4\" class=\"data row3 col4\" >-0.2333</td>\n",
              "                        <td id=\"T_6a63ce88_5a65_11ec_9aa9_0242ac1c0002row3_col5\" class=\"data row3 col5\" >-0.1725</td>\n",
              "                        <td id=\"T_6a63ce88_5a65_11ec_9aa9_0242ac1c0002row3_col6\" class=\"data row3 col6\" >0.09669</td>\n",
              "            </tr>\n",
              "            <tr>\n",
              "                        <th id=\"T_6a63ce88_5a65_11ec_9aa9_0242ac1c0002level0_row4\" class=\"row_heading level0 row4\" >SibSp</th>\n",
              "                        <td id=\"T_6a63ce88_5a65_11ec_9aa9_0242ac1c0002row4_col0\" class=\"data row4 col0\" >-0.05753</td>\n",
              "                        <td id=\"T_6a63ce88_5a65_11ec_9aa9_0242ac1c0002row4_col1\" class=\"data row4 col1\" >-0.03532</td>\n",
              "                        <td id=\"T_6a63ce88_5a65_11ec_9aa9_0242ac1c0002row4_col2\" class=\"data row4 col2\" >0.08308</td>\n",
              "                        <td id=\"T_6a63ce88_5a65_11ec_9aa9_0242ac1c0002row4_col3\" class=\"data row4 col3\" >-0.2333</td>\n",
              "                        <td id=\"T_6a63ce88_5a65_11ec_9aa9_0242ac1c0002row4_col4\" class=\"data row4 col4\" >1.0</td>\n",
              "                        <td id=\"T_6a63ce88_5a65_11ec_9aa9_0242ac1c0002row4_col5\" class=\"data row4 col5\" >0.4148</td>\n",
              "                        <td id=\"T_6a63ce88_5a65_11ec_9aa9_0242ac1c0002row4_col6\" class=\"data row4 col6\" >0.1597</td>\n",
              "            </tr>\n",
              "            <tr>\n",
              "                        <th id=\"T_6a63ce88_5a65_11ec_9aa9_0242ac1c0002level0_row5\" class=\"row_heading level0 row5\" >Parch</th>\n",
              "                        <td id=\"T_6a63ce88_5a65_11ec_9aa9_0242ac1c0002row5_col0\" class=\"data row5 col0\" >-0.001652</td>\n",
              "                        <td id=\"T_6a63ce88_5a65_11ec_9aa9_0242ac1c0002row5_col1\" class=\"data row5 col1\" >0.08163</td>\n",
              "                        <td id=\"T_6a63ce88_5a65_11ec_9aa9_0242ac1c0002row5_col2\" class=\"data row5 col2\" >0.01844</td>\n",
              "                        <td id=\"T_6a63ce88_5a65_11ec_9aa9_0242ac1c0002row5_col3\" class=\"data row5 col3\" >-0.1725</td>\n",
              "                        <td id=\"T_6a63ce88_5a65_11ec_9aa9_0242ac1c0002row5_col4\" class=\"data row5 col4\" >0.4148</td>\n",
              "                        <td id=\"T_6a63ce88_5a65_11ec_9aa9_0242ac1c0002row5_col5\" class=\"data row5 col5\" >1.0</td>\n",
              "                        <td id=\"T_6a63ce88_5a65_11ec_9aa9_0242ac1c0002row5_col6\" class=\"data row5 col6\" >0.2162</td>\n",
              "            </tr>\n",
              "            <tr>\n",
              "                        <th id=\"T_6a63ce88_5a65_11ec_9aa9_0242ac1c0002level0_row6\" class=\"row_heading level0 row6\" >Fare</th>\n",
              "                        <td id=\"T_6a63ce88_5a65_11ec_9aa9_0242ac1c0002row6_col0\" class=\"data row6 col0\" >0.01266</td>\n",
              "                        <td id=\"T_6a63ce88_5a65_11ec_9aa9_0242ac1c0002row6_col1\" class=\"data row6 col1\" >0.2573</td>\n",
              "                        <td id=\"T_6a63ce88_5a65_11ec_9aa9_0242ac1c0002row6_col2\" class=\"data row6 col2\" >-0.5495</td>\n",
              "                        <td id=\"T_6a63ce88_5a65_11ec_9aa9_0242ac1c0002row6_col3\" class=\"data row6 col3\" >0.09669</td>\n",
              "                        <td id=\"T_6a63ce88_5a65_11ec_9aa9_0242ac1c0002row6_col4\" class=\"data row6 col4\" >0.1597</td>\n",
              "                        <td id=\"T_6a63ce88_5a65_11ec_9aa9_0242ac1c0002row6_col5\" class=\"data row6 col5\" >0.2162</td>\n",
              "                        <td id=\"T_6a63ce88_5a65_11ec_9aa9_0242ac1c0002row6_col6\" class=\"data row6 col6\" >1.0</td>\n",
              "            </tr>\n",
              "    </tbody></table>"
            ],
            "text/plain": [
              "<pandas.io.formats.style.Styler at 0x7fdf7acabf10>"
            ]
          },
          "metadata": {},
          "execution_count": 63
        },
        {
          "output_type": "display_data",
          "data": {
            "text/plain": [
              "<Figure size 1152x864 with 0 Axes>"
            ]
          },
          "metadata": {}
        }
      ]
    },
    {
      "cell_type": "markdown",
      "source": [
        "-PassengerId,\tPclass, Age\tand SibSp have weak negative correlation with survived variable\n",
        "\n",
        "-Parch and fare have weak positive correlation with survived variable"
      ],
      "metadata": {
        "id": "KexXO4Imo88E"
      }
    },
    {
      "cell_type": "markdown",
      "source": [
        "-"
      ],
      "metadata": {
        "id": "-i35bKsDouCN"
      }
    },
    {
      "cell_type": "markdown",
      "source": [
        "##**Feature Engineering**\n",
        "\n",
        "Here we will perform the following:\n",
        "- Extract Title from the name column. This maybe useful in classification of passenger class\n",
        "- Drop PassengerId,Name,Ticket columns as the have no effect on passenger survival\n",
        "- perform label encoding\n"
      ],
      "metadata": {
        "id": "KLSLE9ka678A"
      }
    },
    {
      "cell_type": "code",
      "source": [
        "#extract titles from the name column\n",
        "data['Title'] = data['Name'].str.extract('([A-Za-z]+)\\.', expand=True)\n",
        "data['Title'].unique()"
      ],
      "metadata": {
        "colab": {
          "base_uri": "https://localhost:8080/"
        },
        "id": "iKzk2CUO2MHR",
        "outputId": "b83539ea-f6fd-40dd-8be7-150c73530899"
      },
      "execution_count": null,
      "outputs": [
        {
          "output_type": "execute_result",
          "data": {
            "text/plain": [
              "array(['Mr', 'Mrs', 'Miss', 'Master', 'Don', 'Rev', 'Dr', 'Mme', 'Ms',\n",
              "       'Major', 'Lady', 'Sir', 'Mlle', 'Col', 'Capt', 'Countess',\n",
              "       'Jonkheer'], dtype=object)"
            ]
          },
          "metadata": {},
          "execution_count": 88
        }
      ]
    },
    {
      "cell_type": "code",
      "source": [
        "#drop PassengerId','Name','Ticket' columns\n",
        "data.drop(columns=['PassengerId','Name','Ticket'],inplace=True)"
      ],
      "metadata": {
        "id": "q0gv2zUO2wHL"
      },
      "execution_count": null,
      "outputs": []
    },
    {
      "cell_type": "code",
      "source": [
        "#Label encoding\n",
        "#encode sex,embarked,title columns\n",
        "from sklearn.preprocessing import LabelEncoder\n",
        "le = LabelEncoder()\n",
        "data['Sex'] = le.fit_transform(data['Sex'])\n",
        "data['Embarked'] = le.fit_transform(data['Embarked'])\n",
        "data['Title'] = le.fit_transform(data['Title'])"
      ],
      "metadata": {
        "id": "th5HfSKDGT4D"
      },
      "execution_count": null,
      "outputs": []
    },
    {
      "cell_type": "markdown",
      "source": [
        "##**Model Training**\n",
        "##**K-nearest neighbor (kNN) classifier**\n",
        "\n",
        "We will follow the following steps in implementing knn classifier\n",
        "\n",
        "  - Declare feature and target variables.\n",
        "  - split data into training and testing sets.\n",
        "  - Feature scaling\n",
        "  - Fit knn\n",
        "  - Compute the accuracy (percentage of correct classification).\n",
        "  - Report the confusion matrix \n",
        "  - Repeat steps above twice, each time splitting the datasets differently i.e. 70-30, 60-40, then note the outcomes of the modeling.\n",
        "  - Suggest and apply at least one of the optimization techniques\n",
        "  - Provide further recommendations to improve both classifiers."
      ],
      "metadata": {
        "id": "FxuRi6zoBOd8"
      }
    },
    {
      "cell_type": "markdown",
      "source": [
        "##**Declare feature and target variable**"
      ],
      "metadata": {
        "id": "VbmdfuMuEncK"
      }
    },
    {
      "cell_type": "code",
      "source": [
        "X = data.drop(['Survived'], axis=1)\n",
        "y = data['Survived']\n"
      ],
      "metadata": {
        "id": "UZh198yFEv-u"
      },
      "execution_count": null,
      "outputs": []
    },
    {
      "cell_type": "markdown",
      "source": [
        "##**Split data into separate training and test set**\n",
        "\n",
        "-We will partition our dataset into 80-20 sets"
      ],
      "metadata": {
        "id": "dgePM6MsE7aG"
      }
    },
    {
      "cell_type": "code",
      "source": [
        "from sklearn.model_selection import train_test_split\n",
        "\n",
        "X_train, X_test, y_train, y_test = train_test_split(X, y, test_size = 0.2, random_state = 0)"
      ],
      "metadata": {
        "id": "2pCwCtHGFE89"
      },
      "execution_count": null,
      "outputs": []
    },
    {
      "cell_type": "markdown",
      "source": [
        "##**Feature Scaling**\n",
        "\n",
        "We will use StandardScaler so that our feature values are centered around the mean with a unit standard deviation"
      ],
      "metadata": {
        "id": "UI7NMenOFSHd"
      }
    },
    {
      "cell_type": "code",
      "source": [
        "from sklearn.preprocessing import StandardScaler\n",
        "\n",
        "scaler = StandardScaler()\n",
        "\n",
        "X_train = scaler.fit_transform(X_train)\n",
        "\n",
        "X_test = scaler.transform(X_test)"
      ],
      "metadata": {
        "id": "DCCs21IBF9vm"
      },
      "execution_count": null,
      "outputs": []
    },
    {
      "cell_type": "markdown",
      "source": [
        "##**Fit Model with 80-20 sets**"
      ],
      "metadata": {
        "id": "B0NQeDcCKFSo"
      }
    },
    {
      "cell_type": "code",
      "source": [
        "#split dataset into 80-20 sets\n",
        "X_train, X_test, y_train, y_test = train_test_split(X, y, test_size = 0.2, random_state = 0)\n",
        "\n",
        "# instantiate the model\n",
        "knn = KNeighborsClassifier()\n",
        "\n",
        "# fit the model to the training set\n",
        "knn.fit(X_train, y_train)\n",
        "\n",
        "#make predictions\n",
        "y_pred = knn.predict(X_test)\n",
        "\n",
        "y_pred\n",
        "\n",
        "#print model accuracy\n",
        "\n",
        "print('Model accuracy score: {0:0.4f}'. format(accuracy_score(y_test, y_pred)))\n",
        "\n",
        "# Print the Confusion Matrix\n",
        "\n",
        "cm = confusion_matrix(y_test, y_pred)\n",
        "\n",
        "print('Confusion matrix\\n\\n', cm)\n",
        "\n",
        "print('\\nTrue Positives(TP) = ', cm[0,0])\n",
        "\n",
        "print('\\nTrue Negatives(TN) = ', cm[1,1])\n",
        "\n",
        "print('\\nFalse Positives(FP) = ', cm[0,1])\n",
        "\n",
        "print('\\nFalse Negatives(FN) = ', cm[1,0])"
      ],
      "metadata": {
        "colab": {
          "base_uri": "https://localhost:8080/"
        },
        "id": "wAcY76b3nvC6",
        "outputId": "37c1eb6b-6c70-44bd-9e6d-2cc51fa6f9f9"
      },
      "execution_count": null,
      "outputs": [
        {
          "output_type": "stream",
          "name": "stdout",
          "text": [
            "Model accuracy score: 0.7430\n",
            "Confusion matrix\n",
            "\n",
            " [[96 14]\n",
            " [32 37]]\n",
            "\n",
            "True Positives(TP) =  96\n",
            "\n",
            "True Negatives(TN) =  37\n",
            "\n",
            "False Positives(FP) =  14\n",
            "\n",
            "False Negatives(FN) =  32\n"
          ]
        }
      ]
    },
    {
      "cell_type": "markdown",
      "source": [
        "-Our model has an accuracy of 74.30%. This is quite good for our classification\n",
        "\n",
        "**Confusion Matrix**\n",
        "\n",
        "A confusion matrix summarizes the classification model performance and the types of errors produced by the model. It gives us a summary of correct and incorrect predictions broken down by each category represented in a tabular form.\n",
        "\n",
        "In this case, the confusion matrix shows:\n",
        "\n",
        "True Positives (Actual Positive:1 and Predict Positive:1) - 96\n",
        "\n",
        "True Negatives (Actual Negative:0 and Predict Negative:0) - 37\n",
        "\n",
        "False Positives (Actual Negative:0 but Predict Positive:1) - 14 (Type I error)\n",
        "\n",
        "False Negatives (Actual Positive:1 but Predict Negative:0) - 32 (Type II error)\n",
        "\n",
        "Therefore, our model has 96 + 37 = 133 correct predictions and 14 + 32 = 46 incorrect predictions"
      ],
      "metadata": {
        "id": "RMhIkF3iOaE9"
      }
    },
    {
      "cell_type": "markdown",
      "source": [
        "##**Fit Model with 70-30 sets**"
      ],
      "metadata": {
        "id": "JfBhbG_CMkT8"
      }
    },
    {
      "cell_type": "code",
      "source": [
        "#split dataset into 70-30 sets\n",
        "X_train, X_test, y_train, y_test = train_test_split(X, y, test_size = 0.3, random_state = 0)\n",
        "\n",
        "# instantiate the model\n",
        "knn = KNeighborsClassifier()\n",
        "\n",
        "# fit the model to the training set\n",
        "knn.fit(X_train, y_train)\n",
        "\n",
        "#make predictions\n",
        "y_pred = knn.predict(X_test)\n",
        "\n",
        "y_pred\n",
        "\n",
        "#print model accuracy\n",
        "\n",
        "print('Model accuracy score: {0:0.4f}'. format(accuracy_score(y_test, y_pred)))\n",
        "\n",
        "# Print the Confusion Matrix\n",
        "\n",
        "cm = confusion_matrix(y_test, y_pred)\n",
        "\n",
        "print('Confusion matrix\\n\\n', cm)\n",
        "\n",
        "print('\\nTrue Positives(TP) = ', cm[0,0])\n",
        "\n",
        "print('\\nTrue Negatives(TN) = ', cm[1,1])\n",
        "\n",
        "print('\\nFalse Positives(FP) = ', cm[0,1])\n",
        "\n",
        "print('\\nFalse Negatives(FN) = ', cm[1,0])"
      ],
      "metadata": {
        "colab": {
          "base_uri": "https://localhost:8080/"
        },
        "id": "fLPXgH5VZeHM",
        "outputId": "9ab9b95d-49c5-485e-b16c-a925bea74ce7"
      },
      "execution_count": null,
      "outputs": [
        {
          "output_type": "stream",
          "name": "stdout",
          "text": [
            "Model accuracy score: 0.7164\n",
            "Confusion matrix\n",
            "\n",
            " [[137  31]\n",
            " [ 45  55]]\n",
            "\n",
            "True Positives(TP) =  137\n",
            "\n",
            "True Negatives(TN) =  55\n",
            "\n",
            "False Positives(FP) =  31\n",
            "\n",
            "False Negatives(FN) =  45\n"
          ]
        }
      ]
    },
    {
      "cell_type": "markdown",
      "source": [
        "-Our model has an accuracy of 71.64%. This is also quite good for our classification though a decrease\n",
        "\n",
        "\n",
        "The confusion matrix shows:\n",
        "\n",
        "True Positives (Actual Positive:1 and Predict Positive:1) - 137\n",
        "\n",
        "True Negatives (Actual Negative:0 and Predict Negative:0) - 55\n",
        "\n",
        "False Positives (Actual Negative:0 but Predict Positive:1) - 31 (Type I error)\n",
        "\n",
        "False Negatives (Actual Positive:1 but Predict Negative:0) - 45 (Type II error)\n",
        "\n",
        "Therefore, our model has 137 + 55 = 192 correct predictions and 31 + 45 = 76 incorrect predictions\n",
        "\n",
        "**Note**\n",
        "\n",
        "-There is a fall in accuracy\n",
        "\n",
        "-Number of correct and incorrect predictions increased\n",
        "\n",
        "-Icreased chance of making type I & II errors"
      ],
      "metadata": {
        "id": "M9JU4-F4a4I7"
      }
    },
    {
      "cell_type": "markdown",
      "source": [
        "##**Train Model with 60-40 sets**"
      ],
      "metadata": {
        "id": "sPaCDWTGNOAp"
      }
    },
    {
      "cell_type": "code",
      "source": [
        "#split dataset into 60-40 sets\n",
        "X_train, X_test, y_train, y_test = train_test_split(X, y, test_size = 0.4, random_state = 0)\n",
        "\n",
        "# instantiate the model\n",
        "knn = KNeighborsClassifier()\n",
        "\n",
        "# fit the model to the training set\n",
        "knn.fit(X_train, y_train)\n",
        "\n",
        "#make predictions\n",
        "y_pred = knn.predict(X_test)\n",
        "\n",
        "y_pred\n",
        "\n",
        "#print model accuracy\n",
        "\n",
        "print('Model accuracy score: {0:0.4f}'. format(accuracy_score(y_test, y_pred)))\n",
        "\n",
        "# Print the Confusion Matrix\n",
        "\n",
        "cm = confusion_matrix(y_test, y_pred)\n",
        "\n",
        "print('Confusion matrix\\n\\n', cm)\n",
        "\n",
        "print('\\nTrue Positives(TP) = ', cm[0,0])\n",
        "\n",
        "print('\\nTrue Negatives(TN) = ', cm[1,1])\n",
        "\n",
        "print('\\nFalse Positives(FP) = ', cm[0,1])\n",
        "\n",
        "print('\\nFalse Negatives(FN) = ', cm[1,0])"
      ],
      "metadata": {
        "colab": {
          "base_uri": "https://localhost:8080/"
        },
        "id": "OJYiGS2aH8Lh",
        "outputId": "d978848e-b520-4328-f279-f74036cf7cf2"
      },
      "execution_count": null,
      "outputs": [
        {
          "output_type": "stream",
          "name": "stdout",
          "text": [
            "Model accuracy score: 0.7199\n",
            "Confusion matrix\n",
            "\n",
            " [[184  37]\n",
            " [ 63  73]]\n",
            "\n",
            "True Positives(TP) =  184\n",
            "\n",
            "True Negatives(TN) =  73\n",
            "\n",
            "False Positives(FP) =  37\n",
            "\n",
            "False Negatives(FN) =  63\n"
          ]
        }
      ]
    },
    {
      "cell_type": "markdown",
      "source": [
        "-There is a slight fall in accuracy to 71.64%. \n",
        "\n",
        "\n",
        "The confusion matrix shows:\n",
        "\n",
        "True Positives (Actual Positive:1 and Predict Positive:1) - 184\n",
        "\n",
        "True Negatives (Actual Negative:0 and Predict Negative:0) - 73\n",
        "\n",
        "False Positives (Actual Negative:0 but Predict Positive:1) - 37 (Type I error)\n",
        "\n",
        "False Negatives (Actual Positive:1 but Predict Negative:0) - 63 (Type II error)\n",
        "\n",
        "Therefore, our model has 184 + 73 = 257 correct predictions and 37 + 63 = 100 incorrect predictions\n",
        "\n",
        "**Note**\n",
        "\n",
        "-There is a fall in accuracy\n",
        "\n",
        "-Number of correct and incorrect predictions increased\n",
        "\n",
        "-Icreased chance of making type I & II errors"
      ],
      "metadata": {
        "id": "WA-DBPllci7C"
      }
    },
    {
      "cell_type": "markdown",
      "source": [
        "##**Model Optimization**\n",
        "\n",
        "We will tune our first model because it performs better compared to the other models "
      ],
      "metadata": {
        "id": "ob4mZlXcNjxw"
      }
    },
    {
      "cell_type": "code",
      "source": [
        "#hypaparameter tuning with 80,20\n",
        "#apply gridsearch\n",
        "from sklearn.model_selection import GridSearchCV\n",
        "\n",
        "neighbor_range = np.arange(1, 41)\n",
        "knn = KNeighborsClassifier()\n",
        "\n",
        "params = {'n_neighbors' : neighbor_range,\n",
        "         'weights' : ['uniform', 'distance'],\n",
        "         'metric' : ['manhattan', 'euclidean', 'minkowski']}\n",
        "\n",
        "\n",
        "model = GridSearchCV(knn, params, cv=5)\n",
        "model.fit(X_train,y_train)\n",
        "model.best_params_\n",
        "\n",
        "    \n",
        "\n",
        "print(\"Best parameters:\", model.best_params_)"
      ],
      "metadata": {
        "colab": {
          "base_uri": "https://localhost:8080/"
        },
        "id": "NyWLIpLgICNf",
        "outputId": "cbe44a39-a788-474d-d764-dd66fdb2ef2b"
      },
      "execution_count": null,
      "outputs": [
        {
          "output_type": "stream",
          "name": "stdout",
          "text": [
            "Best parameters: {'metric': 'manhattan', 'n_neighbors': 29, 'weights': 'distance'}\n"
          ]
        }
      ]
    },
    {
      "cell_type": "code",
      "source": [
        "# split X and y into training and testing sets\n",
        "\n",
        "X_train, X_test, y_train, y_test = train_test_split(X, y, test_size = 0.2, random_state = 0)\n",
        "\n",
        "# instantiate the model\n",
        "knn = KNeighborsClassifier(metric='manhattan',n_neighbors=29,weights='distance')\n",
        "\n",
        "\n",
        "# fit the model to the training set\n",
        "knn.fit(X_train, y_train)\n",
        "\n",
        "y_pred = knn.predict(X_test)\n",
        "\n",
        "y_pred\n",
        "\n",
        "from sklearn.metrics import accuracy_score\n",
        "\n",
        "print('Model accuracy score: {0:0.4f}'. format(accuracy_score(y_test, y_pred)))\n",
        "\n",
        "# Print the Confusion Matrix with k =3 and slice it into four pieces\n",
        "\n",
        "from sklearn.metrics import confusion_matrix\n",
        "\n",
        "cm = confusion_matrix(y_test, y_pred)\n",
        "\n",
        "print('Confusion matrix\\n\\n', cm)\n",
        "\n",
        "print('\\nTrue Positives(TP) = ', cm[0,0])\n",
        "\n",
        "print('\\nTrue Negatives(TN) = ', cm[1,1])\n",
        "\n",
        "print('\\nFalse Positives(FP) = ', cm[0,1])\n",
        "\n",
        "print('\\nFalse Negatives(FN) = ', cm[1,0])"
      ],
      "metadata": {
        "colab": {
          "base_uri": "https://localhost:8080/"
        },
        "id": "Oi1iUkhfJ9tV",
        "outputId": "b6ad0600-b81e-4868-9f64-0c8d8994d2ad"
      },
      "execution_count": null,
      "outputs": [
        {
          "output_type": "stream",
          "name": "stdout",
          "text": [
            "Model accuracy score: 0.7877\n",
            "Confusion matrix\n",
            "\n",
            " [[96 14]\n",
            " [24 45]]\n",
            "\n",
            "True Positives(TP) =  96\n",
            "\n",
            "True Negatives(TN) =  45\n",
            "\n",
            "False Positives(FP) =  14\n",
            "\n",
            "False Negatives(FN) =  24\n"
          ]
        }
      ]
    },
    {
      "cell_type": "markdown",
      "source": [
        "-Our model accuracy improved to  78.77%. \n",
        "\n",
        "\n",
        "The confusion matrix shows:\n",
        "\n",
        "True Positives (Actual Positive:1 and Predict Positive:1) - 96\n",
        "\n",
        "True Negatives (Actual Negative:0 and Predict Negative:0) - 45\n",
        "\n",
        "False Positives (Actual Negative:0 but Predict Positive:1) - 14 (Type I error)\n",
        "\n",
        "False Negatives (Actual Positive:1 but Predict Negative:0) - 24 (Type II error)\n",
        "\n",
        "Therefore, our model has 96 + 45 = 141 correct predictions and 14 + 24 = 28 incorrect predictions\n",
        "\n"
      ],
      "metadata": {
        "id": "F2nwfRq3dYik"
      }
    },
    {
      "cell_type": "markdown",
      "source": [
        "##**Challenge the solution**\n",
        "\n",
        "##**Check for overfitting and Underfitting**\n",
        "\n",
        "If our model does much better on the training set than on the test set, then we're likely overfitting. For example, it would be a big red flag if our model saw 99% accuracy on the training set but only 55% accuracy on the test set\n",
        "\n",
        "on the other hand, an underfit model doesn't fully learn each and every example in the dataset. In such cases, we see a low score on both the training set and test/validation"
      ],
      "metadata": {
        "id": "_n0OyCA3f7qC"
      }
    },
    {
      "cell_type": "code",
      "source": [
        "print('Training set score: {:.4f}'.format(knn.score(X_train, y_train)))\n",
        "\n",
        "print('Test set score: {:.4f}'.format(knn.score(X_test, y_test)))"
      ],
      "metadata": {
        "id": "j9baE_vYm2uR",
        "colab": {
          "base_uri": "https://localhost:8080/"
        },
        "outputId": "4d3d2a30-917e-4826-ff18-a7378b47990d"
      },
      "execution_count": null,
      "outputs": [
        {
          "output_type": "stream",
          "name": "stdout",
          "text": [
            "Training set score: 0.9846\n",
            "Test set score: 0.7877\n"
          ]
        }
      ]
    },
    {
      "cell_type": "markdown",
      "source": [
        "The training-set accuracy score is 98.46% while the test-set accuracy to be 78.77% These two values are  comparable. So, there is no question of overfitting"
      ],
      "metadata": {
        "id": "C83RDsBogbRn"
      }
    },
    {
      "cell_type": "markdown",
      "source": [
        "##**Conclusions**\n",
        "-Our model performance ranges between 71.00%-79.00% which means our model is doing a very good job in terms of making prediction. However, this accuracy score does not give the underlying distribution of values neither does it tell anything about the type of errors our classifer is making. So, we used confusion matrix\n",
        "\n",
        "-Our model does well with 80:20 split ratio. Chances of making errors increased with 70:30 and 60:40 ratios and for this can lead to overfitting or underfitting"
      ],
      "metadata": {
        "id": "yNoR6-Wnhjox"
      }
    },
    {
      "cell_type": "markdown",
      "source": [
        "##**Recommendations**"
      ],
      "metadata": {
        "id": "Q-nsPHaulCni"
      }
    },
    {
      "cell_type": "markdown",
      "source": [
        "-Try other classification models and performance tools such as ROC Curve"
      ],
      "metadata": {
        "id": "XQEzjYFpoA0f"
      }
    }
  ]
}